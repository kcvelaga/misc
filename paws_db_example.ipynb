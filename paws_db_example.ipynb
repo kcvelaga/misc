{
 "cells": [
  {
   "cell_type": "code",
   "execution_count": 1,
   "id": "53c4fd54-eb98-453b-945e-34527713f8dd",
   "metadata": {},
   "outputs": [],
   "source": [
    "import wmpaws\n",
    "import pandas as pd\n",
    "pd.set_option('display.max_rows', None)"
   ]
  },
  {
   "cell_type": "code",
   "execution_count": 12,
   "id": "6ce4f79c-16d9-40dd-b72a-868ed8f2b4cb",
   "metadata": {},
   "outputs": [],
   "source": [
    "query = \"\"\"\n",
    "SELECT \n",
    "    up_value AS gender, \n",
    "    COUNT(DISTINCT user_id) AS user_count\n",
    "FROM\n",
    "    user\n",
    "LEFT JOIN \n",
    "    user_properties ON up_user = user_id\n",
    "WHERE \n",
    "    up_property = 'gender'\n",
    "GROUP BY \n",
    "    up_value\n",
    "\"\"\""
   ]
  },
  {
   "cell_type": "code",
   "execution_count": 13,
   "id": "79b02364-a5cc-4d14-8e9d-cc80744b9010",
   "metadata": {},
   "outputs": [],
   "source": [
    "wikis = ['pawiki', 'tewiki', 'hiwiki']"
   ]
  },
  {
   "cell_type": "code",
   "execution_count": 21,
   "id": "6cbc338e-4f74-4613-b309-3f2cf4669d3c",
   "metadata": {},
   "outputs": [],
   "source": [
    "gender_counts_list = []\n",
    "\n",
    "# loop through the wikis\n",
    "for wiki in wikis:\n",
    "    gender_counts_wiki = wmpaws.run_sql(query, wiki)\n",
    "    gender_counts_wiki['wiki'] = wiki\n",
    "\n",
    "    # append each wiki to a list\n",
    "    gender_counts_list.append(gender_counts_wiki)\n",
    "\n",
    "# combine all dataframe into one\n",
    "gender_counts_all = pd.concat(gender_counts_list)"
   ]
  },
  {
   "cell_type": "code",
   "execution_count": 27,
   "id": "e08dfe16-7b92-4d5b-94b4-71b2cf3deee3",
   "metadata": {},
   "outputs": [
    {
     "data": {
      "text/html": [
       "<div>\n",
       "<style scoped>\n",
       "    .dataframe tbody tr th:only-of-type {\n",
       "        vertical-align: middle;\n",
       "    }\n",
       "\n",
       "    .dataframe tbody tr th {\n",
       "        vertical-align: top;\n",
       "    }\n",
       "\n",
       "    .dataframe thead th {\n",
       "        text-align: right;\n",
       "    }\n",
       "</style>\n",
       "<table border=\"1\" class=\"dataframe\">\n",
       "  <thead>\n",
       "    <tr style=\"text-align: right;\">\n",
       "      <th></th>\n",
       "      <th></th>\n",
       "      <th>user_count</th>\n",
       "    </tr>\n",
       "    <tr>\n",
       "      <th>wiki</th>\n",
       "      <th>gender</th>\n",
       "      <th></th>\n",
       "    </tr>\n",
       "  </thead>\n",
       "  <tbody>\n",
       "    <tr>\n",
       "      <th rowspan=\"2\" valign=\"top\">pawiki</th>\n",
       "      <th>female</th>\n",
       "      <td>44</td>\n",
       "    </tr>\n",
       "    <tr>\n",
       "      <th>male</th>\n",
       "      <td>438</td>\n",
       "    </tr>\n",
       "    <tr>\n",
       "      <th rowspan=\"2\" valign=\"top\">tewiki</th>\n",
       "      <th>female</th>\n",
       "      <td>127</td>\n",
       "    </tr>\n",
       "    <tr>\n",
       "      <th>male</th>\n",
       "      <td>1653</td>\n",
       "    </tr>\n",
       "    <tr>\n",
       "      <th rowspan=\"2\" valign=\"top\">hiwiki</th>\n",
       "      <th>female</th>\n",
       "      <td>396</td>\n",
       "    </tr>\n",
       "    <tr>\n",
       "      <th>male</th>\n",
       "      <td>4989</td>\n",
       "    </tr>\n",
       "  </tbody>\n",
       "</table>\n",
       "</div>"
      ],
      "text/plain": [
       "               user_count\n",
       "wiki   gender            \n",
       "pawiki female          44\n",
       "       male           438\n",
       "tewiki female         127\n",
       "       male          1653\n",
       "hiwiki female         396\n",
       "       male          4989"
      ]
     },
     "execution_count": 27,
     "metadata": {},
     "output_type": "execute_result"
    }
   ],
   "source": [
    "gender_counts_all.set_index(['wiki', 'gender'], verify_integrity=True)"
   ]
  }
 ],
 "metadata": {
  "kernelspec": {
   "display_name": "Python 3 (ipykernel)",
   "language": "python",
   "name": "python3"
  },
  "language_info": {
   "codemirror_mode": {
    "name": "ipython",
    "version": 3
   },
   "file_extension": ".py",
   "mimetype": "text/x-python",
   "name": "python",
   "nbconvert_exporter": "python",
   "pygments_lexer": "ipython3",
   "version": "3.12.3"
  }
 },
 "nbformat": 4,
 "nbformat_minor": 5
}
